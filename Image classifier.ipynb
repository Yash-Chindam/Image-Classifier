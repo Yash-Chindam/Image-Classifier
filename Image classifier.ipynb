{
 "cells": [
  {
   "cell_type": "code",
   "execution_count": 3,
   "id": "8f464283",
   "metadata": {},
   "outputs": [],
   "source": [
    "#Importing libraries\n",
    "import numpy as np\n",
    "import pandas as pd\n",
    "import tensorflow as tf\n",
    "from matplotlib import pyplot as plt\n",
    "from sklearn.ensemble import RandomForestClassifier\n",
    "from sklearn.model_selection import train_test_split\n",
    "%matplotlib inline\n",
    "\n",
    "\n",
    "\n"
   ]
  },
  {
   "cell_type": "code",
   "execution_count": 4,
   "id": "81d66166",
   "metadata": {},
   "outputs": [
    {
     "data": {
      "text/plain": [
       "<bound method NDFrame.head of       label  1x1  1x2  1x3  1x4  1x5  1x6  1x7  1x8  1x9  ...  28x19  28x20  \\\n",
       "0         5    0    0    0    0    0    0    0    0    0  ...    0.0    0.0   \n",
       "1         0    0    0    0    0    0    0    0    0    0  ...    0.0    0.0   \n",
       "2         4    0    0    0    0    0    0    0    0    0  ...    0.0    0.0   \n",
       "3         1    0    0    0    0    0    0    0    0    0  ...    0.0    0.0   \n",
       "4         9    0    0    0    0    0    0    0    0    0  ...    0.0    0.0   \n",
       "...     ...  ...  ...  ...  ...  ...  ...  ...  ...  ...  ...    ...    ...   \n",
       "3909      7    0    0    0    0    0    0    0    0    0  ...    0.0    0.0   \n",
       "3910      6    0    0    0    0    0    0    0    0    0  ...    0.0    0.0   \n",
       "3911      4    0    0    0    0    0    0    0    0    0  ...    0.0    0.0   \n",
       "3912      9    0    0    0    0    0    0    0    0    0  ...    0.0    0.0   \n",
       "3913      9    0    0    0    0    0    0    0    0    0  ...    NaN    NaN   \n",
       "\n",
       "      28x21  28x22  28x23  28x24  28x25  28x26  28x27  28x28  \n",
       "0       0.0    0.0    0.0    0.0    0.0    0.0    0.0    0.0  \n",
       "1       0.0    0.0    0.0    0.0    0.0    0.0    0.0    0.0  \n",
       "2       0.0    0.0    0.0    0.0    0.0    0.0    0.0    0.0  \n",
       "3       0.0    0.0    0.0    0.0    0.0    0.0    0.0    0.0  \n",
       "4       0.0    0.0    0.0    0.0    0.0    0.0    0.0    0.0  \n",
       "...     ...    ...    ...    ...    ...    ...    ...    ...  \n",
       "3909    0.0    0.0    0.0    0.0    0.0    0.0    0.0    0.0  \n",
       "3910    0.0    0.0    0.0    0.0    0.0    0.0    0.0    0.0  \n",
       "3911    0.0    0.0    0.0    0.0    0.0    0.0    0.0    0.0  \n",
       "3912    0.0    0.0    0.0    0.0    0.0    0.0    0.0    0.0  \n",
       "3913    NaN    NaN    NaN    NaN    NaN    NaN    NaN    NaN  \n",
       "\n",
       "[3914 rows x 785 columns]>"
      ]
     },
     "execution_count": 4,
     "metadata": {},
     "output_type": "execute_result"
    }
   ],
   "source": [
    "data= pd.read_csv('mnist_train.csv.crdownload')\n",
    "data.head"
   ]
  },
  {
   "cell_type": "code",
   "execution_count": null,
   "id": "c990c1af",
   "metadata": {},
   "outputs": [],
   "source": []
  },
  {
   "cell_type": "code",
   "execution_count": null,
   "id": "c63d95a1",
   "metadata": {},
   "outputs": [],
   "source": []
  },
  {
   "cell_type": "code",
   "execution_count": null,
   "id": "76bd0702",
   "metadata": {},
   "outputs": [],
   "source": []
  }
 ],
 "metadata": {
  "kernelspec": {
   "display_name": "Python 3 (ipykernel)",
   "language": "python",
   "name": "python3"
  },
  "language_info": {
   "codemirror_mode": {
    "name": "ipython",
    "version": 3
   },
   "file_extension": ".py",
   "mimetype": "text/x-python",
   "name": "python",
   "nbconvert_exporter": "python",
   "pygments_lexer": "ipython3",
   "version": "3.9.7"
  }
 },
 "nbformat": 4,
 "nbformat_minor": 5
}
